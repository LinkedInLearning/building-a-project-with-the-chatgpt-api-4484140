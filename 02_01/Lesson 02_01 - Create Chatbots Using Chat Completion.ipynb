{
 "cells": [
  {
   "cell_type": "markdown",
   "id": "caa8cd98",
   "metadata": {},
   "source": [
    "# Building a Project with the ChatGPT API"
   ]
  },
  {
   "cell_type": "markdown",
   "id": "c606f61f",
   "metadata": {},
   "source": [
    "## Lesson Examples"
   ]
  },
  {
   "cell_type": "markdown",
   "id": "b126d991",
   "metadata": {},
   "source": [
    "### Install the necesarry libraries. "
   ]
  },
  {
   "cell_type": "code",
   "execution_count": null,
   "id": "cbb7c175",
   "metadata": {},
   "outputs": [],
   "source": [
    "pip install openai"
   ]
  },
  {
   "cell_type": "code",
   "execution_count": null,
   "id": "bc699e7c",
   "metadata": {},
   "outputs": [],
   "source": [
    "pip install openai[datalib]"
   ]
  },
  {
   "cell_type": "code",
   "execution_count": null,
   "id": "c1615b50",
   "metadata": {},
   "outputs": [],
   "source": [
    "pip install urllib3==1.26.6 "
   ]
  },
  {
   "cell_type": "code",
   "execution_count": null,
   "id": "646f69d3",
   "metadata": {},
   "outputs": [],
   "source": [
    "pip install python-dotenv"
   ]
  },
  {
   "cell_type": "markdown",
   "id": "ee48e61b",
   "metadata": {},
   "source": [
    "### Import the libraries and enviornment file to gain access to the Open API Key\n",
    "#### The key can be generated here: https://platform.openai.com/account/api-keys"
   ]
  },
  {
   "cell_type": "code",
   "execution_count": 2,
   "id": "70841de5",
   "metadata": {},
   "outputs": [],
   "source": [
    "import os\n",
    "import openai\n",
    "\n",
    "\n",
    "from dotenv import load_dotenv, find_dotenv\n",
    "_ = load_dotenv(find_dotenv()) # read local .env file"
   ]
  },
  {
   "cell_type": "markdown",
   "id": "e5387008",
   "metadata": {},
   "source": [
    "### Authenticate to the API using the API Key\n",
    "#### Pull from environment variables or use openai.api_key = (\"your_key_here\") to hardcode the key"
   ]
  },
  {
   "cell_type": "code",
   "execution_count": 3,
   "id": "7cf566e0",
   "metadata": {},
   "outputs": [],
   "source": [
    "openai.api_key = os.getenv(\"OPENAI_API_KEY\") #when you first create a key, it takes a time for it to register"
   ]
  },
  {
   "cell_type": "markdown",
   "id": "934c2ebe",
   "metadata": {},
   "source": [
    "## Lesson 02_01 - Create Chatbots Using Chat Completion"
   ]
  },
  {
   "cell_type": "code",
   "execution_count": 4,
   "id": "f20f0b30",
   "metadata": {},
   "outputs": [
    {
     "data": {
      "text/plain": [
       "<OpenAIObject chat.completion id=chatcmpl-7Q3nRoZyCxoXuMELmUHscf30QdJNa at 0x10a697720> JSON: {\n",
       "  \"id\": \"chatcmpl-7Q3nRoZyCxoXuMELmUHscf30QdJNa\",\n",
       "  \"object\": \"chat.completion\",\n",
       "  \"created\": 1686445477,\n",
       "  \"model\": \"gpt-3.5-turbo-0301\",\n",
       "  \"usage\": {\n",
       "    \"prompt_tokens\": 36,\n",
       "    \"completion_tokens\": 158,\n",
       "    \"total_tokens\": 194\n",
       "  },\n",
       "  \"choices\": [\n",
       "    {\n",
       "      \"message\": {\n",
       "        \"role\": \"assistant\",\n",
       "        \"content\": \"La Carbonara is a classic Roman pasta dish made with eggs, pancetta, and Pecorino Romano cheese. It's typically a rich and heavy dish, so a wine with good acidity and tannins would be a great pairing to balance it out. A full-bodied red wine such as Chianti Classico Riserva or Barolo would be a good choice. Alternatively, a medium-bodied red like Chianti or Valpolicella Ripasso could also pair well. If you prefer white wine, a full-bodied white like Viognier or Chardonnay could work, or a sparkling wine like Franciacorta or Champagne for a celebratory touch. Ultimately, it depends on personal preference, but these wines should complement the flavors of La Carbonara nicely.\"\n",
       "      },\n",
       "      \"finish_reason\": \"stop\",\n",
       "      \"index\": 0\n",
       "    }\n",
       "  ]\n",
       "}"
      ]
     },
     "execution_count": 4,
     "metadata": {},
     "output_type": "execute_result"
    }
   ],
   "source": [
    "openai.ChatCompletion.create(\n",
    "  model=\"gpt-3.5-turbo\",\n",
    "  messages=[\n",
    "       {\"role\": \"system\", \"content\": \"You are a helpful assistant that acts as a wine sommelier.\"},\n",
    "       {\"role\": \"user\", \"content\": \"Which wine pairs best with La Carbonara?\"}\n",
    "    ]\n",
    ")"
   ]
  },
  {
   "cell_type": "code",
   "execution_count": 5,
   "id": "2ff56b98",
   "metadata": {},
   "outputs": [
    {
     "data": {
      "text/plain": [
       "<OpenAIObject chat.completion id=chatcmpl-7Q3nWA6N7xJpwZMW0pfShYFM2DVdZ at 0x10baea0e0> JSON: {\n",
       "  \"id\": \"chatcmpl-7Q3nWA6N7xJpwZMW0pfShYFM2DVdZ\",\n",
       "  \"object\": \"chat.completion\",\n",
       "  \"created\": 1686445482,\n",
       "  \"model\": \"gpt-3.5-turbo-0301\",\n",
       "  \"usage\": {\n",
       "    \"prompt_tokens\": 182,\n",
       "    \"completion_tokens\": 108,\n",
       "    \"total_tokens\": 290\n",
       "  },\n",
       "  \"choices\": [\n",
       "    {\n",
       "      \"message\": {\n",
       "        \"role\": \"assistant\",\n",
       "        \"content\": \"If you prefer a fruity white wine with La Carbonara, I would suggest trying a Pinot Grigio from the Friuli-Venezia Giulia region or a Verdejo from Spain. These wines have fruit-forward flavors of apple, pear, and citrus, yet they have enough acidity to balance the richness of the pasta dish. Additionally, an Albari\\u00f1o from the R\\u00edas Baixas region of Spain would also be a good choice, as it has refreshing acidity and flavors of peach, apricot, and citrus fruits.\"\n",
       "      },\n",
       "      \"finish_reason\": \"stop\",\n",
       "      \"index\": 0\n",
       "    }\n",
       "  ]\n",
       "}"
      ]
     },
     "execution_count": 5,
     "metadata": {},
     "output_type": "execute_result"
    }
   ],
   "source": [
    "openai.ChatCompletion.create(\n",
    "  model=\"gpt-3.5-turbo\",\n",
    "  messages=[\n",
    "        {\"role\": \"system\", \"content\": \"You are a helpful assistant that acts as a wine sommelier.\"},\n",
    "        {\"role\": \"user\", \"content\": \"Which wine pairs best with La Carbonara?\"},\n",
    "        {\"role\": \"assistant\", \"content\": \"La Carbonara is a Roman pasta dish that includes guanciale, egg yolks, Pecorino Romano cheese, and black pepper. The rich and savory flavors of the dish would pair well with a medium-bodied red wine with good acidity, such as a Chianti Classico Riserva or a Barbera d’Asti. Alternatively, a dry white wine with good acidity and minerality like a Vermentino or a Greco di Tufo can also complement the flavors of the dish. It ultimately depends on the specific brand and how the wine will balance and enhance the flavors of the dish.\"},\n",
    "        {\"role\": \"user\", \"content\": \"I prefer a fruity white wine. Which would you recommend?\"}\n",
    "    ]\n",
    ")\n",
    "\n"
   ]
  },
  {
   "cell_type": "code",
   "execution_count": 6,
   "id": "0fa1adf7",
   "metadata": {
    "scrolled": true
   },
   "outputs": [
    {
     "data": {
      "text/plain": [
       "<OpenAIObject chat.completion id=chatcmpl-7Q3najB9W7uWuFRGDZn8EBEoa73kV at 0x10baeaa40> JSON: {\n",
       "  \"id\": \"chatcmpl-7Q3najB9W7uWuFRGDZn8EBEoa73kV\",\n",
       "  \"object\": \"chat.completion\",\n",
       "  \"created\": 1686445486,\n",
       "  \"model\": \"gpt-3.5-turbo-0301\",\n",
       "  \"usage\": {\n",
       "    \"prompt_tokens\": 46,\n",
       "    \"completion_tokens\": 24,\n",
       "    \"total_tokens\": 70\n",
       "  },\n",
       "  \"choices\": [\n",
       "    {\n",
       "      \"message\": {\n",
       "        \"role\": \"assistant\",\n",
       "        \"content\": \"A full-bodied Italian red, such as Chianti Classico or Barolo, pairs best with La Carbonara.\"\n",
       "      },\n",
       "      \"finish_reason\": \"stop\",\n",
       "      \"index\": 0\n",
       "    }\n",
       "  ]\n",
       "}"
      ]
     },
     "execution_count": 6,
     "metadata": {},
     "output_type": "execute_result"
    }
   ],
   "source": [
    "openai.ChatCompletion.create(\n",
    "  model=\"gpt-3.5-turbo\",\n",
    "  messages=[\n",
    "       {\"role\": \"system\", \"content\": \"You are a helpful assistant that acts as a wine sommelier.\"},\n",
    "       {\"role\": \"user\", \"content\": \"Can you tell me which wine pairs best with La Carbonara in 15 words or less?\"}\n",
    "    ]\n",
    ")\n"
   ]
  },
  {
   "cell_type": "code",
   "execution_count": null,
   "id": "cb57267c",
   "metadata": {},
   "outputs": [],
   "source": []
  }
 ],
 "metadata": {
  "kernelspec": {
   "display_name": "Python 3 (ipykernel)",
   "language": "python",
   "name": "python3"
  },
  "language_info": {
   "codemirror_mode": {
    "name": "ipython",
    "version": 3
   },
   "file_extension": ".py",
   "mimetype": "text/x-python",
   "name": "python",
   "nbconvert_exporter": "python",
   "pygments_lexer": "ipython3",
   "version": "3.8.9"
  }
 },
 "nbformat": 4,
 "nbformat_minor": 5
}
