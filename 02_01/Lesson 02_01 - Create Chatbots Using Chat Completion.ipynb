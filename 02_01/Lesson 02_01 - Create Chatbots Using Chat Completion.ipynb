{
 "cells": [
  {
   "cell_type": "markdown",
   "id": "caa8cd98",
   "metadata": {},
   "source": [
    "# Building a Project with the ChatGPT API"
   ]
  },
  {
   "cell_type": "markdown",
   "id": "c606f61f",
   "metadata": {},
   "source": [
    "## Lesson Examples"
   ]
  },
  {
   "cell_type": "markdown",
   "id": "b126d991",
   "metadata": {},
   "source": [
    "### Install the necessary libraries. "
   ]
  },
  {
   "cell_type": "code",
   "execution_count": null,
   "id": "cbb7c175",
   "metadata": {},
   "outputs": [],
   "source": [
    "pip install openai"
   ]
  },
  {
   "cell_type": "code",
   "execution_count": null,
   "id": "bc699e7c",
   "metadata": {},
   "outputs": [],
   "source": [
    "pip install openai[datalib]"
   ]
  },
  {
   "cell_type": "code",
   "execution_count": null,
   "id": "c1615b50",
   "metadata": {},
   "outputs": [],
   "source": [
    "pip install urllib3==1.26.6 "
   ]
  },
  {
   "cell_type": "code",
   "execution_count": null,
   "id": "646f69d3",
   "metadata": {},
   "outputs": [],
   "source": [
    "pip install python-dotenv"
   ]
  },
  {
   "cell_type": "markdown",
   "id": "ee48e61b",
   "metadata": {},
   "source": [
    "### Import the libraries and environment file to gain access to the Open API Key\n",
    "#### The key can be generated here: https://platform.openai.com/account/api-keys"
   ]
  },
  {
   "cell_type": "code",
   "execution_count": 38,
   "id": "70841de5",
   "metadata": {},
   "outputs": [],
   "source": [
    "import os\n",
    "from openai import OpenAI\n",
    "\n",
    "\n",
    "from dotenv import load_dotenv, find_dotenv\n",
    "_ = load_dotenv(find_dotenv()) # read local .env file"
   ]
  },
  {
   "cell_type": "markdown",
   "id": "e5387008",
   "metadata": {},
   "source": [
    "### Authenticate to the API using the API Key\n",
    "#### Pull from environment variables or use api_key = (\"your_key_here\") to hardcode the key"
   ]
  },
  {
   "cell_type": "code",
   "execution_count": 39,
   "id": "7cf566e0",
   "metadata": {},
   "outputs": [],
   "source": [
    "client = OpenAI(\n",
    "  api_key=os.environ['OPENAI_API_KEY']  \n",
    ")"
   ]
  },
  {
   "cell_type": "markdown",
   "id": "934c2ebe",
   "metadata": {},
   "source": [
    "## Lesson 02_01 - Create Chatbots Using Chat Completion"
   ]
  },
  {
   "cell_type": "code",
   "execution_count": 40,
   "id": "f20f0b30",
   "metadata": {},
   "outputs": [],
   "source": [
    "response = client.chat.completions.create(\n",
    "  model=\"gpt-3.5-turbo\",\n",
    "  messages=[\n",
    "       {\"role\": \"system\", \"content\": '''You are a helpful assistant that acts as a \n",
    "                                        sous chef.'''},\n",
    "       {\"role\": \"user\", \"content\": '''When should I use Capellini pasta?'''}\n",
    "  ]\n",
    ")"
   ]
  },
  {
   "cell_type": "code",
   "execution_count": 41,
   "id": "776a9a63",
   "metadata": {},
   "outputs": [
    {
     "name": "stdout",
     "output_type": "stream",
     "text": [
      "{\n",
      "  \"id\": \"chatcmpl-8JseMtjWz9g497PDsGu7O8rgT7o7n\",\n",
      "  \"choices\": [\n",
      "    {\n",
      "      \"finish_reason\": \"stop\",\n",
      "      \"index\": 0,\n",
      "      \"message\": {\n",
      "        \"content\": \"Capellini, also known as angel hair pasta, is a thin and delicate pasta variety that cooks quickly. It is best used in dishes that require a light and delicate pasta texture. Capellini is popularly used in Italian dishes with light sauces to maximize the pasta's fine texture.\\n\\nHere are a few instances where capellini pasta is commonly used:\\n\\n1. Light Cream or Butter Sauces: Capellini pairs well with light cream sauces such as lemon butter, garlic cream, or tomato cream sauces. The fine strands of capellini can absorb and hold onto these sauces well.\\n\\n2. Olive Oil-Based Sauces: Capellini can be tossed with simple olive oil-based sauces with ingredients like garlic, red pepper flakes, and fresh herbs. This allows the pasta to shine through with its delicate texture, while the flavors of the sauce enhance the overall dish.\\n\\n3. Seafood Dishes: Capellini is often used in seafood pasta dishes, like shrimp scampi or linguine with clams. The thin pasta pairs nicely with the delicate flavors of seafood, allowing the flavors to mesh well together.\\n\\n4. Cold Pasta Salads: Capellini can be used in cold pasta salads, providing a light and refreshing base to showcase various seasonal vegetables, herbs, and dressings.\\n\\nIt's important to note that capellini cooks very quickly, usually within just 2-3 minutes, so be mindful of the cooking time to avoid overcooking. Enjoy experimenting with capellini in various dishes to take advantage of its delicate texture!\",\n",
      "        \"role\": \"assistant\",\n",
      "        \"function_call\": null,\n",
      "        \"tool_calls\": null\n",
      "      }\n",
      "    }\n",
      "  ],\n",
      "  \"created\": 1699748998,\n",
      "  \"model\": \"gpt-3.5-turbo-0613\",\n",
      "  \"object\": \"chat.completion\",\n",
      "  \"system_fingerprint\": null,\n",
      "  \"usage\": {\n",
      "    \"completion_tokens\": 313,\n",
      "    \"prompt_tokens\": 34,\n",
      "    \"total_tokens\": 347\n",
      "  }\n",
      "}\n"
     ]
    }
   ],
   "source": [
    "print(response.model_dump_json(indent=2))"
   ]
  },
  {
   "cell_type": "code",
   "execution_count": 42,
   "id": "0fa1adf7",
   "metadata": {
    "scrolled": true
   },
   "outputs": [],
   "source": [
    "response = client.chat.completions.create(\n",
    "  model=\"gpt-3.5-turbo\",\n",
    "  messages=[\n",
    "       {\"role\": \"system\", \"content\": '''You are a helpful assistant that acts as a \n",
    "                                        sous chef.'''},\n",
    "       {\"role\": \"user\", \"content\": '''Can you tell me when I should use Capellini \n",
    "                               pasta in 15 words or less?'''}\n",
    "  ]\n",
    ")"
   ]
  },
  {
   "cell_type": "code",
   "execution_count": 43,
   "id": "cb57267c",
   "metadata": {},
   "outputs": [
    {
     "name": "stdout",
     "output_type": "stream",
     "text": [
      "{\n",
      "  \"id\": \"chatcmpl-8JsezDmmeTXwAsDp9ucOtmYFFqGwG\",\n",
      "  \"choices\": [\n",
      "    {\n",
      "      \"finish_reason\": \"stop\",\n",
      "      \"index\": 0,\n",
      "      \"message\": {\n",
      "        \"content\": \"Use Capellini pasta when you want a delicate and light pasta option in your dish.\",\n",
      "        \"role\": \"assistant\",\n",
      "        \"function_call\": null,\n",
      "        \"tool_calls\": null\n",
      "      }\n",
      "    }\n",
      "  ],\n",
      "  \"created\": 1699749037,\n",
      "  \"model\": \"gpt-3.5-turbo-0613\",\n",
      "  \"object\": \"chat.completion\",\n",
      "  \"system_fingerprint\": null,\n",
      "  \"usage\": {\n",
      "    \"completion_tokens\": 18,\n",
      "    \"prompt_tokens\": 46,\n",
      "    \"total_tokens\": 64\n",
      "  }\n",
      "}\n"
     ]
    }
   ],
   "source": [
    "print(response.model_dump_json(indent=2))"
   ]
  }
 ],
 "metadata": {
  "kernelspec": {
   "display_name": "Python 3 (ipykernel)",
   "language": "python",
   "name": "python3"
  },
  "language_info": {
   "codemirror_mode": {
    "name": "ipython",
    "version": 3
   },
   "file_extension": ".py",
   "mimetype": "text/x-python",
   "name": "python",
   "nbconvert_exporter": "python",
   "pygments_lexer": "ipython3",
   "version": "3.8.9"
  }
 },
 "nbformat": 4,
 "nbformat_minor": 5
}
