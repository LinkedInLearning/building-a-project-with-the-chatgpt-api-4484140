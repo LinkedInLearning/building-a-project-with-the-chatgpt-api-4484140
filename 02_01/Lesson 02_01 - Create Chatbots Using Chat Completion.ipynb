{
 "cells": [
  {
   "cell_type": "markdown",
   "id": "caa8cd98",
   "metadata": {},
   "source": [
    "# Building a Project with the ChatGPT API"
   ]
  },
  {
   "cell_type": "markdown",
   "id": "c606f61f",
   "metadata": {},
   "source": [
    "## Lesson Examples"
   ]
  },
  {
   "cell_type": "markdown",
   "id": "b126d991",
   "metadata": {},
   "source": [
    "### Install the necesarry libraries. "
   ]
  },
  {
   "cell_type": "code",
   "execution_count": null,
   "id": "cbb7c175",
   "metadata": {},
   "outputs": [],
   "source": [
    "pip install openai"
   ]
  },
  {
   "cell_type": "code",
   "execution_count": null,
   "id": "bc699e7c",
   "metadata": {},
   "outputs": [],
   "source": [
    "pip install openai[datalib]"
   ]
  },
  {
   "cell_type": "code",
   "execution_count": null,
   "id": "c1615b50",
   "metadata": {},
   "outputs": [],
   "source": [
    "pip install urllib3==1.26.6 "
   ]
  },
  {
   "cell_type": "code",
   "execution_count": null,
   "id": "646f69d3",
   "metadata": {},
   "outputs": [],
   "source": [
    "pip install python-dotenv"
   ]
  },
  {
   "cell_type": "markdown",
   "id": "ee48e61b",
   "metadata": {},
   "source": [
    "### Import the libraries and enviornment file to gain access to the Open API Key\n",
    "#### The key can be generated here: https://platform.openai.com/account/api-keys"
   ]
  },
  {
   "cell_type": "code",
   "execution_count": 1,
   "id": "70841de5",
   "metadata": {},
   "outputs": [],
   "source": [
    "import os\n",
    "import openai\n",
    "\n",
    "\n",
    "from dotenv import load_dotenv, find_dotenv\n",
    "_ = load_dotenv(find_dotenv()) # read local .env file"
   ]
  },
  {
   "cell_type": "markdown",
   "id": "e5387008",
   "metadata": {},
   "source": [
    "### Authenticate to the API using the API Key\n",
    "#### Pull from environment variables or use openai.api_key = (\"your_key_here\") to hardcode the key"
   ]
  },
  {
   "cell_type": "code",
   "execution_count": 2,
   "id": "7cf566e0",
   "metadata": {},
   "outputs": [],
   "source": [
    "openai.api_key = os.getenv(\"OPENAI_API_KEY\") #when you first create a key, it takes a time for it to register"
   ]
  },
  {
   "cell_type": "markdown",
   "id": "934c2ebe",
   "metadata": {},
   "source": [
    "## Lesson 02_01 - Create Chatbots Using Chat Completion"
   ]
  },
  {
   "cell_type": "code",
   "execution_count": 7,
   "id": "f20f0b30",
   "metadata": {},
   "outputs": [
    {
     "name": "stdout",
     "output_type": "stream",
     "text": [
      "Capellini pasta, also known as angel hair pasta, is a thin, delicate pasta that cooks quickly and has a tender texture. It pairs well with light, delicate sauces and ingredients. Here are some suggestions on when to use Capellini pasta:\n",
      "\n",
      "1. Light tomato sauces: Capellini pasta works well with simple tomato-based sauces, like a fresh tomato and basil sauce or a light marinara sauce.\n",
      "\n",
      "2. Aglio e olio: Capellini pasta is perfect for classic Italian dishes like spaghetti aglio e olio, where the pasta is tossed with garlic, olive oil, and chili flakes. The thin strands absorb the flavors well.\n",
      "\n",
      "3. Light seafood dishes: Capellini pasta goes well with delicate seafood flavors. Consider making a shrimp scampi or a lemon butter sauce with fish, as both would work beautifully with this pasta.\n",
      "\n",
      "4. Asian-inspired dishes: Capellini pasta can be used in Asian-inspired dishes, like stir-fries or noodle salads. Pair it with sautéed vegetables, soy sauce, ginger, and garlic for a quick and light meal.\n",
      "\n",
      "Remember that Capellini pasta cooks very quickly, usually within 2-3 minutes, so be sure to keep an eye on it while cooking to avoid overcooking and turning it into mush.\n"
     ]
    }
   ],
   "source": [
    "response = openai.ChatCompletion.create(\n",
    "  model=\"gpt-3.5-turbo\",\n",
    "  messages=[\n",
    "       {\"role\": \"system\", \"content\": '''You are a helpful assistant that acts as a \n",
    "                                        sous chef.'''},\n",
    "       {\"role\": \"user\", \"content\": '''When should I use Capellini pasta?'''}\n",
    "  ]\n",
    ")\n",
    "\n",
    "\n",
    "print(response.choices[0].message.content)"
   ]
  },
  {
   "cell_type": "code",
   "execution_count": 10,
   "id": "0fa1adf7",
   "metadata": {
    "scrolled": true
   },
   "outputs": [
    {
     "name": "stdout",
     "output_type": "stream",
     "text": [
      "Capellini pasta is best used in delicate, light dishes, like simple sauces or seafood.\n"
     ]
    }
   ],
   "source": [
    "response = openai.ChatCompletion.create(\n",
    "  model=\"gpt-3.5-turbo\",\n",
    "  messages=[\n",
    "       {\"role\": \"system\", \"content\": '''You are a helpful assistant that acts as a \n",
    "                                        sous chef.'''},\n",
    "       {\"role\": \"user\", \"content\": '''Can you tell me when I should use Capellini \n",
    "       pasta in 15 words or less?'''}\n",
    "    ]\n",
    ")\n",
    "\n",
    "print(response.choices[0].message.content)"
   ]
  },
  {
   "cell_type": "code",
   "execution_count": null,
   "id": "cb57267c",
   "metadata": {},
   "outputs": [],
   "source": []
  }
 ],
 "metadata": {
  "kernelspec": {
   "display_name": "Python 3 (ipykernel)",
   "language": "python",
   "name": "python3"
  },
  "language_info": {
   "codemirror_mode": {
    "name": "ipython",
    "version": 3
   },
   "file_extension": ".py",
   "mimetype": "text/x-python",
   "name": "python",
   "nbconvert_exporter": "python",
   "pygments_lexer": "ipython3",
   "version": "3.8.9"
  }
 },
 "nbformat": 4,
 "nbformat_minor": 5
}
