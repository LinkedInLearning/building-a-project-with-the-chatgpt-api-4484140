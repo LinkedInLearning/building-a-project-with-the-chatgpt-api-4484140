{
 "cells": [
  {
   "cell_type": "markdown",
   "id": "caa8cd98",
   "metadata": {},
   "source": [
    "# Building a Project with the ChatGPT API"
   ]
  },
  {
   "cell_type": "markdown",
   "id": "c606f61f",
   "metadata": {},
   "source": [
    "## Generating Text with GPT"
   ]
  },
  {
   "cell_type": "markdown",
   "id": "4e5767de",
   "metadata": {},
   "source": [
    "## 05_01 - Construct a multi-turn conversation"
   ]
  },
  {
   "cell_type": "markdown",
   "id": "ee48e61b",
   "metadata": {},
   "source": [
    "### Import the libraries and enviornment file to gain access to the Open API Key\n",
    "#### The key can be generated here: https://platform.openai.com/account/api-keys"
   ]
  },
  {
   "cell_type": "code",
   "execution_count": 1,
   "id": "70841de5",
   "metadata": {},
   "outputs": [],
   "source": [
    "import os\n",
    "import openai\n",
    "\n",
    "from dotenv import load_dotenv, find_dotenv\n",
    "_ = load_dotenv(find_dotenv()) # read local .env file"
   ]
  },
  {
   "cell_type": "markdown",
   "id": "e5387008",
   "metadata": {},
   "source": [
    "### Authenticate to the API using the API Key\n",
    "#### Pull from environment variables or use openai.api_key = (\"your_key_here\") to hardcode the key"
   ]
  },
  {
   "cell_type": "code",
   "execution_count": 2,
   "id": "7cf566e0",
   "metadata": {},
   "outputs": [],
   "source": [
    "openai.api_key = os.getenv(\"OPENAI_API_KEY\")"
   ]
  },
  {
   "cell_type": "code",
   "execution_count": 3,
   "id": "c4fb6162",
   "metadata": {},
   "outputs": [],
   "source": [
    "MODEL = \"gpt-3.5-turbo\"\n",
    "\n",
    "#sets the persona for the AI assistant using a system message\n",
    "context = [{'role':'system', 'content':\"\"\"You are a friendly AI assistant that \n",
    "                                              helps compose professional-sounding tweets \n",
    "                                              for Twitter that often go viral based on a \n",
    "                                              website I provide. You will provide a summary \n",
    "                                              of the website in 30 words or less.\"\"\"\n",
    "            }]  "
   ]
  },
  {
   "cell_type": "code",
   "execution_count": 4,
   "id": "343f9d1a",
   "metadata": {},
   "outputs": [],
   "source": [
    "# Each interation with the AI assistant is a new session so the entire chat/message history, \n",
    "# including user prompts and assistant responses must be included in each exchange with the\n",
    "# model/assistant so that it \"remembers\"\n",
    "\n",
    "#This is called Prompt Chaining\n",
    "\n",
    "def collect_messages(role, message): #keeps track of the message exchange between user and assistant\n",
    "    context.append({'role': role, 'content':f\"{message}\"})"
   ]
  },
  {
   "cell_type": "code",
   "execution_count": 5,
   "id": "7c3c3660",
   "metadata": {},
   "outputs": [],
   "source": [
    "#Sends the prompts to the model for a completion/response\n",
    "\n",
    "def get_completion(temperature=0): \n",
    "    try:\n",
    "        response = openai.ChatCompletion.create(\n",
    "            model=MODEL,\n",
    "            messages=context, \n",
    "            temperature=temperature, \n",
    "        )\n",
    "\n",
    "        print(\"\\n Assistant: \", response.choices[0].message[\"content\"], \"\\n\")\n",
    "\n",
    "        return response.choices[0].message[\"content\"]\n",
    "    except openai.error.OpenAIError as e:\n",
    "        print(e.http_status)\n",
    "        print(e.error)\n",
    "        return e.error "
   ]
  },
  {
   "cell_type": "code",
   "execution_count": 6,
   "id": "ebca5506",
   "metadata": {},
   "outputs": [
    {
     "name": "stdout",
     "output_type": "stream",
     "text": [
      "\n",
      " Assistant:  Sure, I can help with that! Please provide me with the website you would like me to summarize. \n",
      "\n",
      "User: http://www.amazon.com/rekognition\n",
      "\n",
      " Assistant:  Amazon Rekognition is a cloud-based image and video analysis service that can identify objects, people, text, scenes, and activities, as well as detect any inappropriate content. \n",
      "\n",
      "User: Can you summarize it for developers?\n",
      "\n",
      " Assistant:  Certainly! Amazon Rekognition is an API that developers can use to add image and video analysis capabilities to their applications. It can identify objects, people, text, scenes, and activities, and can be used to detect inappropriate content. \n",
      "\n",
      "User: Can you summarize it for executives?\n",
      "\n",
      " Assistant:  Certainly! Amazon Rekognition is a powerful cloud-based image and video analysis service that can help businesses automate and streamline their operations. It can identify objects, people, text, scenes, and activities, and can be used to detect inappropriate content, making it a valuable tool for a wide range of industries, from retail to law enforcement. \n",
      "\n",
      "User: Can you summarize it for college students?\n",
      "\n",
      " Assistant:  Sure! Amazon Rekognition is a cool technology that can analyze images and videos to identify what's in them. It can recognize people, objects, text, and even inappropriate content. It's a great tool for developers who want to add these capabilities to their apps. \n",
      "\n",
      "User: Can you summarize it using 50 words instead?\n",
      "\n",
      " Assistant:  Sure! Amazon Rekognition is a cloud-based image and video analysis service that can identify objects, people, text, scenes, and activities, as well as detect any inappropriate content. It's an API that developers can use to add these capabilities to their applications, and it's a valuable tool for a wide range of industries. \n",
      "\n",
      "User: Can you summarize it using 10 words instead?\n",
      "\n",
      " Assistant:  Amazon Rekognition: Image and video analysis API for developers. \n",
      "\n",
      "User: exit\n",
      "\n",
      " Goodbye\n"
     ]
    }
   ],
   "source": [
    "#Start the conversation between the user and the AI assistant/chatbot\n",
    "    \n",
    "while True:\n",
    "    collect_messages('assistant', get_completion()) #stores the response from the AI assistant\n",
    "    \n",
    "    user_prompt = input('User: ') #input box for entering prompt\n",
    "    \n",
    "    if user_prompt == 'exit': #end the conversation with the AI assistant\n",
    "        print(\"\\n Goodbye\")\n",
    "        break\n",
    "\n",
    "    collect_messages('user', user_prompt) #stores the user prompt\n",
    " "
   ]
  },
  {
   "cell_type": "code",
   "execution_count": null,
   "id": "f01f9e49",
   "metadata": {},
   "outputs": [],
   "source": []
  }
 ],
 "metadata": {
  "kernelspec": {
   "display_name": "Python 3 (ipykernel)",
   "language": "python",
   "name": "python3"
  },
  "language_info": {
   "codemirror_mode": {
    "name": "ipython",
    "version": 3
   },
   "file_extension": ".py",
   "mimetype": "text/x-python",
   "name": "python",
   "nbconvert_exporter": "python",
   "pygments_lexer": "ipython3",
   "version": "3.8.9"
  }
 },
 "nbformat": 4,
 "nbformat_minor": 5
}
