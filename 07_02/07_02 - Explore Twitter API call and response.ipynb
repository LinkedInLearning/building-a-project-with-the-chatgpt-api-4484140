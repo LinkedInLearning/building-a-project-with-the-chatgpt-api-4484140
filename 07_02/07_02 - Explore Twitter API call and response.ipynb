{
 "cells": [
  {
   "cell_type": "markdown",
   "id": "caa8cd98",
   "metadata": {},
   "source": [
    "# Building a Project with the ChatGPT API"
   ]
  },
  {
   "cell_type": "markdown",
   "id": "c606f61f",
   "metadata": {},
   "source": [
    "## Integrate with Twitter API"
   ]
  },
  {
   "cell_type": "markdown",
   "id": "4e5767de",
   "metadata": {},
   "source": [
    "## 07_02 -Explore Twitter API call and response"
   ]
  },
  {
   "cell_type": "code",
   "execution_count": null,
   "id": "cd26130e",
   "metadata": {},
   "outputs": [],
   "source": [
    "pip install tweepy"
   ]
  },
  {
   "cell_type": "code",
   "execution_count": 3,
   "id": "1673aef7",
   "metadata": {},
   "outputs": [],
   "source": [
    "import tweepy\n",
    "import requests\n",
    "\n",
    "from dotenv import load_dotenv, find_dotenv\n",
    "_ = load_dotenv(find_dotenv()) # read local .env file\n",
    "\n",
    "# Authenticate to Twitter API\n",
    "consumer_key = os.getenv(\"API_KEY\")\n",
    "consumer_secret = os.getenv(\"API_SECRET_KEY\")\n",
    "access_token = os.getenv(\"ACCESS_TOKEN\")   \n",
    "access_token_secret = os.getenv(\"ACCESS_TOKEN_SECRET_KEY\") \n",
    "\n",
    "#download image to notebook\n",
    "def download_image(imageURL):\n",
    "    print(\"downloading - \", imageURL)\n",
    "    \n",
    "    img_data = requests.get(imageURL).content\n",
    "    with open('dalle_image.jpg', 'wb') as handler:\n",
    "        handler.write(img_data)\n",
    "    \n",
    "    return \"dalle_image.jpg\"\n",
    "\n",
    "#upload image media using V1 of Twitter API\n",
    "def upload_image(image):\n",
    "    auth = tweepy.OAuth1UserHandler(\n",
    "       consumer_key,\n",
    "       consumer_secret,\n",
    "       access_token,\n",
    "       access_token_secret\n",
    "    )\n",
    "\n",
    "    api = tweepy.API(auth)\n",
    "    media = api.media_upload(filename=image) \n",
    "    \n",
    "    return media\n",
    "\n",
    "#send the tweet using V2 of the Twitter API\n",
    "def send_tweet(summary, image):\n",
    "    client = tweepy.Client(\n",
    "        consumer_key=consumer_key, consumer_secret=consumer_secret,\n",
    "        access_token=access_token, access_token_secret=access_token_secret\n",
    "    )\n",
    "\n",
    "    #upload image to Twitter servers and get the media metadata\n",
    "    media = upload_image(image)\n",
    "    media_ids = [media.media_id]\n",
    "    \n",
    "    #send the tweet\n",
    "    response = client.create_tweet(text=summary, media_ids=media_ids)\n",
    "    \n",
    "    print(f\"https://twitter.com/user/status/{response.data['id']}\")"
   ]
  },
  {
   "cell_type": "code",
   "execution_count": null,
   "id": "c768c592",
   "metadata": {},
   "outputs": [],
   "source": []
  }
 ],
 "metadata": {
  "kernelspec": {
   "display_name": "Python 3 (ipykernel)",
   "language": "python",
   "name": "python3"
  },
  "language_info": {
   "codemirror_mode": {
    "name": "ipython",
    "version": 3
   },
   "file_extension": ".py",
   "mimetype": "text/x-python",
   "name": "python",
   "nbconvert_exporter": "python",
   "pygments_lexer": "ipython3",
   "version": "3.8.9"
  }
 },
 "nbformat": 4,
 "nbformat_minor": 5
}
