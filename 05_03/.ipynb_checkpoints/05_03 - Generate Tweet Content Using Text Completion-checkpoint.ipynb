{
 "cells": [
  {
   "cell_type": "markdown",
   "id": "caa8cd98",
   "metadata": {},
   "source": [
    "# Building a Project with the ChatGPT API"
   ]
  },
  {
   "cell_type": "markdown",
   "id": "c606f61f",
   "metadata": {},
   "source": [
    "## Generating Text with GPT"
   ]
  },
  {
   "cell_type": "markdown",
   "id": "4e5767de",
   "metadata": {},
   "source": [
    "## 05_03 - Generate Tweet Content Using Text Completion\n",
    "\n",
    "### In this hands-on challenge, you'll use the AI assistant to summarize the content of a website and make that summary suitable for tweeting using the Chat Completions API.\n"
   ]
  },
  {
   "cell_type": "markdown",
   "id": "ee48e61b",
   "metadata": {},
   "source": [
    "### Import the libraries and enviornment file to gain access to the Open API Key\n",
    "#### The key can be generated here: https://platform.openai.com/account/api-keys"
   ]
  },
  {
   "cell_type": "code",
   "execution_count": null,
   "id": "70841de5",
   "metadata": {},
   "outputs": [],
   "source": [
    "import os\n",
    "import openai\n",
    "\n",
    "from dotenv import load_dotenv, find_dotenv\n",
    "_ = load_dotenv(find_dotenv()) # read local .env file"
   ]
  },
  {
   "cell_type": "markdown",
   "id": "e5387008",
   "metadata": {},
   "source": [
    "### Authenticate to the API using the API Key\n",
    "#### Pull from environment variables or use openai.api_key = (\"your_key_here\") to hardcode the key"
   ]
  },
  {
   "cell_type": "code",
   "execution_count": null,
   "id": "7cf566e0",
   "metadata": {},
   "outputs": [],
   "source": [
    "openai.api_key = os.getenv(\"OPENAI_API_KEY\")"
   ]
  },
  {
   "cell_type": "code",
   "execution_count": null,
   "id": "c4fb6162",
   "metadata": {},
   "outputs": [],
   "source": [
    "MODEL = \"gpt-3.5-turbo\"\n",
    "\n",
    "#sets the persona for the AI assistant using a system message\n",
    "context = [{'role':'system', 'content':\"\"\"You are a friendly AI assistant that \n",
    "                                              helps compose professional-sounding tweets \n",
    "                                              for Twitter that often go viral based on a \n",
    "                                              website I provide. You will provide a summary \n",
    "                                              of the website in 30 words or less.\"\"\"\n",
    "            }]  "
   ]
  },
  {
   "cell_type": "code",
   "execution_count": null,
   "id": "343f9d1a",
   "metadata": {},
   "outputs": [],
   "source": [
    "# Each interation with the AI assistant is a new session so the entire chat/message history, \n",
    "# including user prompts and assistant responses must be included in each exchange with the\n",
    "# model/assistant so that it \"remembers\"\n",
    "\n",
    "#This is called Prompt Chaining\n",
    "\n",
    "def collect_messages(role, message): #keeps track of the message exchange between user and assistant\n",
    "    context.append({'role': role, 'content':f\"{message}\"})"
   ]
  },
  {
   "cell_type": "code",
   "execution_count": null,
   "id": "7c3c3660",
   "metadata": {},
   "outputs": [],
   "source": [
    "#Sends the prompts to the model for a completion/response\n",
    "\n",
    "def get_completion(temperature=0): \n",
    "    try:\n",
    "        response = openai.ChatCompletion.create(\n",
    "            model=MODEL,\n",
    "            messages=context, \n",
    "            temperature=temperature, \n",
    "        )\n",
    "\n",
    "        print(\"\\n Assistant: \", response.choices[0].message[\"content\"], \"\\n\")\n",
    "\n",
    "        return response.choices[0].message[\"content\"]\n",
    "    except openai.error.OpenAIError as e:\n",
    "        print(e.http_status)\n",
    "        print(e.error)\n",
    "        return e.error "
   ]
  },
  {
   "cell_type": "code",
   "execution_count": null,
   "id": "ebca5506",
   "metadata": {},
   "outputs": [],
   "source": [
    "#Start the conversation between the user and the AI assistant/chatbot\n",
    "    \n",
    "while True:\n",
    "    collect_messages('assistant', get_completion()) #stores the response from the AI assistant\n",
    "    \n",
    "    user_prompt = input('User: ') #input box for entering prompt\n",
    "    \n",
    "    if user_prompt == 'exit': #end the conversation with the AI assistant\n",
    "        print(\"\\n Goodbye\")\n",
    "        break\n",
    "\n",
    "    collect_messages('user', user_prompt) #stores the user prompt\n",
    " "
   ]
  },
  {
   "cell_type": "code",
   "execution_count": null,
   "id": "f01f9e49",
   "metadata": {},
   "outputs": [],
   "source": []
  }
 ],
 "metadata": {
  "kernelspec": {
   "display_name": "Python 3 (ipykernel)",
   "language": "python",
   "name": "python3"
  },
  "language_info": {
   "codemirror_mode": {
    "name": "ipython",
    "version": 3
   },
   "file_extension": ".py",
   "mimetype": "text/x-python",
   "name": "python",
   "nbconvert_exporter": "python",
   "pygments_lexer": "ipython3",
   "version": "3.8.9"
  }
 },
 "nbformat": 4,
 "nbformat_minor": 5
}
