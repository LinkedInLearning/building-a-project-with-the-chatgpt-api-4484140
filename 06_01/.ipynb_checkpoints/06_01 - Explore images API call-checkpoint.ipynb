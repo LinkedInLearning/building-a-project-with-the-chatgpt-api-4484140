{
 "cells": [
  {
   "cell_type": "markdown",
   "id": "caa8cd98",
   "metadata": {},
   "source": [
    "# Building a Project with the ChatGPT API"
   ]
  },
  {
   "cell_type": "markdown",
   "id": "c606f61f",
   "metadata": {},
   "source": [
    "## Generating an Image using DALL-E"
   ]
  },
  {
   "cell_type": "markdown",
   "id": "4e5767de",
   "metadata": {},
   "source": [
    "## 06_01 - Explore images API call"
   ]
  },
  {
   "cell_type": "code",
   "execution_count": 6,
   "id": "106c7350",
   "metadata": {},
   "outputs": [],
   "source": [
    "# Create images from scratch based on the website summary\n",
    "\n",
    "def generate_image(summary):\n",
    "    print(summary)\n",
    "    \n",
    "    try:\n",
    "        response = openai.Image.create(\n",
    "            prompt=summary,\n",
    "            n=1,\n",
    "            size=\"1024x1024\"\n",
    "        )\n",
    "\n",
    "        image_url = response['data'][0]['url'] #URLs will expire after an hour\n",
    "\n",
    "        return image_url\n",
    "    except openai.error.OpenAIError as e:\n",
    "        print(e.http_status)\n",
    "        print(e.error)\n",
    "        return e.error"
   ]
  }
 ],
 "metadata": {
  "kernelspec": {
   "display_name": "Python 3 (ipykernel)",
   "language": "python",
   "name": "python3"
  },
  "language_info": {
   "codemirror_mode": {
    "name": "ipython",
    "version": 3
   },
   "file_extension": ".py",
   "mimetype": "text/x-python",
   "name": "python",
   "nbconvert_exporter": "python",
   "pygments_lexer": "ipython3",
   "version": "3.8.9"
  }
 },
 "nbformat": 4,
 "nbformat_minor": 5
}
