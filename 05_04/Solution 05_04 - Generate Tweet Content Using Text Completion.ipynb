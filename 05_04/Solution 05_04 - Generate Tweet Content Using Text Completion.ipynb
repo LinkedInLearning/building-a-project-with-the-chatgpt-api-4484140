{
 "cells": [
  {
   "cell_type": "markdown",
   "id": "caa8cd98",
   "metadata": {},
   "source": [
    "# Building a Project with the ChatGPT API"
   ]
  },
  {
   "cell_type": "markdown",
   "id": "c606f61f",
   "metadata": {},
   "source": [
    "## Generating Text with GPT"
   ]
  },
  {
   "cell_type": "markdown",
   "id": "4e5767de",
   "metadata": {},
   "source": [
    "## 05_04 Solution - Generate Tweet Content Using Text Completion\n",
    "\n",
    "### In this hands-on challenge, you'll use the AI assistant to summarize the content of a website and make that summary suitable for tweeting using the Chat Completions API.\n",
    "\n",
    "\t\tA sample flow is shown below:\n",
    "\n",
    "\t\tSet the context using a system message.\n",
    "        \n",
    "        System: You are a friendly AI assistant that helps compose professional-sounding tweets \n",
    "                for Twitter that often go viral based on a website I provide. You will provide \n",
    "                a summary of the website in 30 words or less.\n",
    "\t\t\n",
    "\t\tAssistant: Sure, what's the website you want me to summarize for you?\n",
    "        \n",
    "        User: http://www.amazon.com/s3\n",
    "\t\t\n",
    "\t\tAssistant: Amazon S3 is an object storage service that offers industry-leading scalability, \n",
    "        data availability, security, and performance. It is designed to store and retrieve any amount \n",
    "        of data from anywhere on the web.\n",
    "\t\t\n",
    "\t\tUser: Can you summarize it for developers?\n",
    "\t\t\n",
    "\t\tAssistant: Certainly! Amazon S3 is a highly scalable and reliable cloud storage service that developers can \n",
    "        use to store and retrieve any amount of data from anywhere on the web.\n",
    "        \n",
    "        User: Can you summarize it for executives?\n",
    "\t\t\n",
    "\t\tAssistant: Of course! Amazon S3 is a cloud-based storage service that provides businesses with a secure and \n",
    "        scalable solution for storing and retrieving data from anywhere on the web.\n",
    "        \n",
    "        User: Can you summarize it for college students?\n",
    "\t\t\n",
    "\t\tAssistant: Sure! Amazon S3 is a cloud-based storage service that allows users to store and retrieve data \n",
    "        from anywhere on the web. It's a great tool for college students who need to access their files from \n",
    "        multiple devices.\n",
    "        \n",
    "        User: Can you summarize it using 50 words instead?\n",
    "        \n",
    "        Assistant: Sure! Amazon S3 is a cloud-based storage service that provides scalable, secure, and \n",
    "        durable object storage for developers and businesses. It offers a reliable and scalable \n",
    "        solution for storing and accessing data, making it a popular choice for applications that \n",
    "        require high availability and durability. \n",
    "        \n",
    "        User: Can you summarize it using 10 words instead?\n",
    "\n",
    "        Assistant: Amazon Rekognition: Image and video analysis API. \n"
   ]
  },
  {
   "cell_type": "markdown",
   "id": "ee48e61b",
   "metadata": {},
   "source": [
    "### Import the libraries and enviornment file to gain access to the Open API Key\n",
    "#### The key can be generated here: https://platform.openai.com/account/api-keys"
   ]
  },
  {
   "cell_type": "code",
   "execution_count": 1,
   "id": "70841de5",
   "metadata": {},
   "outputs": [],
   "source": [
    "import os\n",
    "import openai\n",
    "\n",
    "from dotenv import load_dotenv, find_dotenv\n",
    "_ = load_dotenv(find_dotenv()) # read local .env file"
   ]
  },
  {
   "cell_type": "markdown",
   "id": "e5387008",
   "metadata": {},
   "source": [
    "### Authenticate to the API using the API Key\n",
    "#### Pull from environment variables or use openai.api_key = (\"your_key_here\") to hardcode the key"
   ]
  },
  {
   "cell_type": "code",
   "execution_count": 2,
   "id": "7cf566e0",
   "metadata": {},
   "outputs": [],
   "source": [
    "openai.api_key = os.getenv(\"OPENAI_API_KEY\")"
   ]
  },
  {
   "cell_type": "code",
   "execution_count": 3,
   "id": "c4fb6162",
   "metadata": {},
   "outputs": [],
   "source": [
    "MODEL = \"gpt-3.5-turbo\"\n",
    "\n",
    "#sets the persona for the AI assistant using a system message\n",
    "context = [{'role':'system', 'content':\"\"\"You are a friendly AI assistant that \n",
    "                                              helps compose professional-sounding tweets \n",
    "                                              for Twitter that often go viral based on a \n",
    "                                              website I provide. You will provide a summary \n",
    "                                              of the website in 30 words or less.\"\"\"\n",
    "            }]  "
   ]
  },
  {
   "cell_type": "code",
   "execution_count": 4,
   "id": "343f9d1a",
   "metadata": {},
   "outputs": [],
   "source": [
    "# Each interation with the AI assistant is a new session so the entire chat/message history, \n",
    "# including user prompts and assistant responses must be included in each exchange with the\n",
    "# model/assistant so that it \"remembers\"\n",
    "\n",
    "#This is called Prompt Chaining\n",
    "\n",
    "def collect_messages(role, message): #keeps track of the message exchange between user and assistant\n",
    "    context.append({'role': role, 'content':f\"{message}\"})"
   ]
  },
  {
   "cell_type": "code",
   "execution_count": 5,
   "id": "7c3c3660",
   "metadata": {},
   "outputs": [],
   "source": [
    "#Sends the prompts to the model for a completion/response\n",
    "\n",
    "def get_completion(temperature=0): \n",
    "    try:\n",
    "        response = openai.ChatCompletion.create(\n",
    "            model=MODEL,\n",
    "            messages=context, \n",
    "            temperature=temperature, \n",
    "        )\n",
    "\n",
    "        print(\"\\n Assistant: \", response.choices[0].message[\"content\"], \"\\n\")\n",
    "\n",
    "        return response.choices[0].message[\"content\"]\n",
    "    except openai.error.OpenAIError as e:\n",
    "        print(e.http_status)\n",
    "        print(e.error)\n",
    "        return e.error "
   ]
  },
  {
   "cell_type": "code",
   "execution_count": 6,
   "id": "ebca5506",
   "metadata": {},
   "outputs": [
    {
     "name": "stdout",
     "output_type": "stream",
     "text": [
      "\n",
      " Assistant:  Sure, I can help with that! Please provide me with the website you would like me to summarize. \n",
      "\n",
      "User: http://www.amazon.com/rekognition\n",
      "\n",
      " Assistant:  Amazon Rekognition is a cloud-based image and video analysis service that can identify objects, people, text, scenes, and activities, as well as detect any inappropriate content. \n",
      "\n",
      "User: Can you summarize it for developers?\n",
      "\n",
      " Assistant:  Certainly! Amazon Rekognition is an API that developers can use to add image and video analysis capabilities to their applications. It can identify objects, people, text, scenes, and activities, and can be used to detect inappropriate content. \n",
      "\n",
      "User: Can you summarize it for executives?\n",
      "\n",
      " Assistant:  Certainly! Amazon Rekognition is a powerful cloud-based image and video analysis service that can help businesses automate and streamline their operations. It can identify objects, people, text, scenes, and activities, and can be used to detect inappropriate content, making it a valuable tool for a wide range of industries, from retail to law enforcement. \n",
      "\n",
      "User: Can you summarize it for college students?\n",
      "\n",
      " Assistant:  Sure! Amazon Rekognition is a cool technology that can analyze images and videos to identify what's in them. It can recognize people, objects, text, and even inappropriate content. It's a great tool for developers who want to add these capabilities to their apps. \n",
      "\n",
      "User: Can you summarize it using 50 words instead?\n",
      "\n",
      " Assistant:  Sure! Amazon Rekognition is a cloud-based image and video analysis service that can identify objects, people, text, scenes, and activities, as well as detect any inappropriate content. It's an API that developers can use to add these capabilities to their applications, and it's a valuable tool for a wide range of industries. \n",
      "\n",
      "User: Can you summarize it using 10 words instead?\n",
      "\n",
      " Assistant:  Amazon Rekognition: Image and video analysis API for developers. \n",
      "\n",
      "User: exit\n",
      "\n",
      " Goodbye\n"
     ]
    }
   ],
   "source": [
    "#Start the conversation between the user and the AI assistant/chatbot\n",
    "    \n",
    "while True:\n",
    "    collect_messages('assistant', get_completion()) #stores the response from the AI assistant\n",
    "    \n",
    "    user_prompt = input('User: ') #input box for entering prompt\n",
    "    \n",
    "    if user_prompt == 'exit': #end the conversation with the AI assistant\n",
    "        print(\"\\n Goodbye\")\n",
    "        break\n",
    "\n",
    "    collect_messages('user', user_prompt) #stores the user prompt\n",
    " "
   ]
  },
  {
   "cell_type": "code",
   "execution_count": 7,
   "id": "59fef0a6",
   "metadata": {},
   "outputs": [
    {
     "name": "stdout",
     "output_type": "stream",
     "text": [
      "[{'role': 'system', 'content': 'You are a friendly AI assistant that \\n                                              helps compose professional-sounding tweets \\n                                              for Twitter that often go viral based on a \\n                                              website I provide. You will provide a summary \\n                                              of the website in 30 words or less.'}, {'role': 'assistant', 'content': 'Sure, I can help with that! Please provide me with the website you would like me to summarize.'}, {'role': 'user', 'content': 'http://www.amazon.com/rekognition'}, {'role': 'assistant', 'content': 'Amazon Rekognition is a cloud-based image and video analysis service that can identify objects, people, text, scenes, and activities, as well as detect any inappropriate content.'}, {'role': 'user', 'content': 'Can you summarize it for developers?'}, {'role': 'assistant', 'content': 'Certainly! Amazon Rekognition is an API that developers can use to add image and video analysis capabilities to their applications. It can identify objects, people, text, scenes, and activities, and can be used to detect inappropriate content.'}, {'role': 'user', 'content': 'Can you summarize it for executives?'}, {'role': 'assistant', 'content': 'Certainly! Amazon Rekognition is a powerful cloud-based image and video analysis service that can help businesses automate and streamline their operations. It can identify objects, people, text, scenes, and activities, and can be used to detect inappropriate content, making it a valuable tool for a wide range of industries, from retail to law enforcement.'}, {'role': 'user', 'content': 'Can you summarize it for college students?'}, {'role': 'assistant', 'content': \"Sure! Amazon Rekognition is a cool technology that can analyze images and videos to identify what's in them. It can recognize people, objects, text, and even inappropriate content. It's a great tool for developers who want to add these capabilities to their apps.\"}, {'role': 'user', 'content': 'Can you summarize it using 50 words instead?'}, {'role': 'assistant', 'content': \"Sure! Amazon Rekognition is a cloud-based image and video analysis service that can identify objects, people, text, scenes, and activities, as well as detect any inappropriate content. It's an API that developers can use to add these capabilities to their applications, and it's a valuable tool for a wide range of industries.\"}, {'role': 'user', 'content': 'Can you summarize it using 10 words instead?'}, {'role': 'assistant', 'content': 'Amazon Rekognition: Image and video analysis API for developers.'}]\n"
     ]
    }
   ],
   "source": [
    "print(context)"
   ]
  },
  {
   "cell_type": "code",
   "execution_count": null,
   "id": "f01f9e49",
   "metadata": {},
   "outputs": [],
   "source": []
  }
 ],
 "metadata": {
  "kernelspec": {
   "display_name": "Python 3 (ipykernel)",
   "language": "python",
   "name": "python3"
  },
  "language_info": {
   "codemirror_mode": {
    "name": "ipython",
    "version": 3
   },
   "file_extension": ".py",
   "mimetype": "text/x-python",
   "name": "python",
   "nbconvert_exporter": "python",
   "pygments_lexer": "ipython3",
   "version": "3.8.9"
  }
 },
 "nbformat": 4,
 "nbformat_minor": 5
}
