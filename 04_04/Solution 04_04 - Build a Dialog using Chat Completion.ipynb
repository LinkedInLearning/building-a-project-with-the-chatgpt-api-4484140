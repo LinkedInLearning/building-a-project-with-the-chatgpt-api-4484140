{
 "cells": [
  {
   "cell_type": "markdown",
   "id": "caa8cd98",
   "metadata": {},
   "source": [
    "# Building a Project with the ChatGPT API"
   ]
  },
  {
   "cell_type": "markdown",
   "id": "c606f61f",
   "metadata": {},
   "source": [
    "## Building a Chat Workflow With GPT"
   ]
  },
  {
   "cell_type": "markdown",
   "id": "4e5767de",
   "metadata": {},
   "source": [
    "## 04_04 - Solution: Build a Dialog using Chat Completion\n",
    "\n",
    "### In this hands-on challenge, you'll build a multi-turn conversation with an AI assistant powered by OpenAI's GPT Chat Completion API.\n",
    "\n",
    "A sample flow is shown below:\n",
    "\n",
    "\t\tSet the context using a system message.\n",
    "        \n",
    "        System: You are a friendly AI assistant that helps compose professional-sounding tweets \n",
    "                for Twitter that often go viral based on a website I provide. You will provide \n",
    "                a summary of the website in 30 words or less.\n",
    "\t\t\n",
    "\t\tAssistant: Sure, what's the website you want me to summarize for you?"
   ]
  },
  {
   "cell_type": "markdown",
   "id": "b126d991",
   "metadata": {},
   "source": [
    "### Install the necesarry libraries. "
   ]
  },
  {
   "cell_type": "code",
   "execution_count": null,
   "id": "cbb7c175",
   "metadata": {},
   "outputs": [],
   "source": [
    "pip install openai"
   ]
  },
  {
   "cell_type": "code",
   "execution_count": null,
   "id": "c1615b50",
   "metadata": {},
   "outputs": [],
   "source": [
    "pip install urllib3==1.26.6 "
   ]
  },
  {
   "cell_type": "code",
   "execution_count": null,
   "id": "646f69d3",
   "metadata": {},
   "outputs": [],
   "source": [
    "pip install python-dotenv"
   ]
  },
  {
   "cell_type": "markdown",
   "id": "ee48e61b",
   "metadata": {},
   "source": [
    "### Import the libraries and enviornment file to gain access to the Open API Key\n",
    "#### The key can be generated here: https://platform.openai.com/account/api-keys"
   ]
  },
  {
   "cell_type": "code",
   "execution_count": 14,
   "id": "70841de5",
   "metadata": {},
   "outputs": [],
   "source": [
    "import os\n",
    "import openai\n",
    "\n",
    "from dotenv import load_dotenv, find_dotenv\n",
    "_ = load_dotenv(find_dotenv()) # read local .env file"
   ]
  },
  {
   "cell_type": "markdown",
   "id": "e5387008",
   "metadata": {},
   "source": [
    "### Authenticate to the API using the API Key\n",
    "#### Pull from environment variables or use openai.api_key = (\"your_key_here\") to hardcode the key"
   ]
  },
  {
   "cell_type": "code",
   "execution_count": 15,
   "id": "7cf566e0",
   "metadata": {},
   "outputs": [],
   "source": [
    "openai.api_key = os.getenv(\"OPENAI_API_KEY\") #when you first create a key, it takes a time for it to register\n",
    "\n",
    "#openai.Model.list() #check access to the API by listing all the models available"
   ]
  },
  {
   "cell_type": "code",
   "execution_count": 16,
   "id": "c4fb6162",
   "metadata": {},
   "outputs": [],
   "source": [
    "MODEL = \"gpt-3.5-turbo\""
   ]
  },
  {
   "cell_type": "code",
   "execution_count": 17,
   "id": "0ef9ca14",
   "metadata": {},
   "outputs": [],
   "source": [
    "def generate_prompt():  \n",
    "    context = [{'role':'system', 'content':\"\"\"You are a friendly AI assistant that \n",
    "                                              helps compose professional-sounding tweets \n",
    "                                              for Twitter that often go viral based on a \n",
    "                                              website I provide. You will provide a summary \n",
    "                                              of the website in 30 words or less.\"\"\"\n",
    "               }]  \n",
    "    \n",
    "    return context"
   ]
  },
  {
   "cell_type": "code",
   "execution_count": 18,
   "id": "7c3c3660",
   "metadata": {},
   "outputs": [],
   "source": [
    "def get_completion(temperature=0):\n",
    "    \n",
    "    try:\n",
    "        response = openai.ChatCompletion.create(\n",
    "            model=MODEL,\n",
    "            messages=generate_prompt(),\n",
    "            temperature=temperature, # this is the degree of randomness of the model's output\n",
    "        )\n",
    "        print(str(response.choices[0].message))\n",
    "        return response.choices[0].message[\"content\"]\n",
    "    except openai.error.OpenAIError as e:\n",
    "        print(e.http_status)\n",
    "        print(e.error)\n",
    "        return e.error"
   ]
  },
  {
   "cell_type": "code",
   "execution_count": 19,
   "id": "56b08bf4",
   "metadata": {},
   "outputs": [
    {
     "name": "stdout",
     "output_type": "stream",
     "text": [
      "{\n",
      "  \"role\": \"assistant\",\n",
      "  \"content\": \"Sure, I can help with that! Please provide me with the website you would like me to summarize.\"\n",
      "}\n"
     ]
    },
    {
     "data": {
      "text/plain": [
       "'Sure, I can help with that! Please provide me with the website you would like me to summarize.'"
      ]
     },
     "execution_count": 19,
     "metadata": {},
     "output_type": "execute_result"
    }
   ],
   "source": [
    "get_completion(0)  "
   ]
  },
  {
   "cell_type": "markdown",
   "id": "e5abd44d",
   "metadata": {},
   "source": [
    "#### Demonstrate temperature"
   ]
  },
  {
   "cell_type": "code",
   "execution_count": 20,
   "id": "69895bb0",
   "metadata": {},
   "outputs": [
    {
     "name": "stdout",
     "output_type": "stream",
     "text": [
      "{\n",
      "  \"role\": \"assistant\",\n",
      "  \"content\": \"Sure, I can help with that! Please provide me with the website you would like me to summarize.\"\n",
      "}\n"
     ]
    },
    {
     "data": {
      "text/plain": [
       "'Sure, I can help with that! Please provide me with the website you would like me to summarize.'"
      ]
     },
     "execution_count": 20,
     "metadata": {},
     "output_type": "execute_result"
    }
   ],
   "source": [
    "get_completion(0)"
   ]
  },
  {
   "cell_type": "code",
   "execution_count": 21,
   "id": "d4cced81",
   "metadata": {},
   "outputs": [
    {
     "name": "stdout",
     "output_type": "stream",
     "text": [
      "{\n",
      "  \"role\": \"assistant\",\n",
      "  \"content\": \"Sure, I can help with that! Please provide me with the website you would like me to summarize.\"\n",
      "}\n"
     ]
    },
    {
     "data": {
      "text/plain": [
       "'Sure, I can help with that! Please provide me with the website you would like me to summarize.'"
      ]
     },
     "execution_count": 21,
     "metadata": {},
     "output_type": "execute_result"
    }
   ],
   "source": [
    "get_completion(.6)"
   ]
  },
  {
   "cell_type": "code",
   "execution_count": 22,
   "id": "7c38c9cf",
   "metadata": {},
   "outputs": [
    {
     "name": "stdout",
     "output_type": "stream",
     "text": [
      "{\n",
      "  \"role\": \"assistant\",\n",
      "  \"content\": \"Sure, I can help you with that! Please provide the website you want me to summarize.\"\n",
      "}\n"
     ]
    },
    {
     "data": {
      "text/plain": [
       "'Sure, I can help you with that! Please provide the website you want me to summarize.'"
      ]
     },
     "execution_count": 22,
     "metadata": {},
     "output_type": "execute_result"
    }
   ],
   "source": [
    "get_completion(.8)"
   ]
  },
  {
   "cell_type": "code",
   "execution_count": 23,
   "id": "d3afe0e6",
   "metadata": {},
   "outputs": [
    {
     "name": "stdout",
     "output_type": "stream",
     "text": [
      "{\n",
      "  \"role\": \"assistant\",\n",
      "  \"content\": \"Sure, I can do that! Please provide me with the website you'd like a summary for.\"\n",
      "}\n"
     ]
    },
    {
     "data": {
      "text/plain": [
       "\"Sure, I can do that! Please provide me with the website you'd like a summary for.\""
      ]
     },
     "execution_count": 23,
     "metadata": {},
     "output_type": "execute_result"
    }
   ],
   "source": [
    "get_completion(1)"
   ]
  },
  {
   "cell_type": "code",
   "execution_count": 24,
   "id": "cf202e67",
   "metadata": {},
   "outputs": [
    {
     "name": "stdout",
     "output_type": "stream",
     "text": [
      "{\n",
      "  \"role\": \"assistant\",\n",
      "  \"content\": \"Certainly! Please fill in the website you would like me to provide a summary for.\"\n",
      "}\n"
     ]
    },
    {
     "data": {
      "text/plain": [
       "'Certainly! Please fill in the website you would like me to provide a summary for.'"
      ]
     },
     "execution_count": 24,
     "metadata": {},
     "output_type": "execute_result"
    }
   ],
   "source": [
    "get_completion(2) "
   ]
  },
  {
   "cell_type": "code",
   "execution_count": 25,
   "id": "147a976e",
   "metadata": {},
   "outputs": [
    {
     "name": "stdout",
     "output_type": "stream",
     "text": [
      "{\n",
      "  \"role\": \"assistant\",\n",
      "  \"content\": \"Today I have got three powerful tools perspective journaling API to advance entrepreneurship advisory & Network Performance portfolio finding along mainstream science logging community projects/events ResearchPR connects amp greater audiences achieving partnerships launched influential op large property trees fostering Research Month explains clearly tremendous data dataset become excellent advantage making huge various researchers advantages\"\n",
      "}\n"
     ]
    },
    {
     "data": {
      "text/plain": [
       "'Today I have got three powerful tools perspective journaling API to advance entrepreneurship advisory & Network Performance portfolio finding along mainstream science logging community projects/events ResearchPR connects amp greater audiences achieving partnerships launched influential op large property trees fostering Research Month explains clearly tremendous data dataset become excellent advantage making huge various researchers advantages'"
      ]
     },
     "execution_count": 25,
     "metadata": {},
     "output_type": "execute_result"
    }
   ],
   "source": [
    "get_completion(2) #hallucinations!!!!!"
   ]
  },
  {
   "cell_type": "code",
   "execution_count": 26,
   "id": "7a9f6712",
   "metadata": {},
   "outputs": [
    {
     "name": "stdout",
     "output_type": "stream",
     "text": [
      "{\n",
      "  \"role\": \"assistant\",\n",
      "  \"content\": \"Roamler IS on Demand puts complex outsourced tastes out goes cheap lonly marketers, cos no clients trying GROOT approves taskering approach certain Europenan users favor sets yqMA8QE investment SEE calls\\u0003013399702212 parvezqi  A786MISmith saradiuswan \\\" data-excerpt-shown=\\\"true\\\">&#8230;\\u0010 \\u2026 like ease done.TMDrzoublook\\\">32ui onclick=dataLayer.push&lt;,20334 `OUWr network richlininter updates' \\r\\n.\"\n",
      "}\n"
     ]
    },
    {
     "data": {
      "text/plain": [
       "'Roamler IS on Demand puts complex outsourced tastes out goes cheap lonly marketers, cos no clients trying GROOT approves taskering approach certain Europenan users favor sets yqMA8QE investment SEE calls\\x03013399702212 parvezqi  A786MISmith saradiuswan \" data-excerpt-shown=\"true\">&#8230;\\x10 … like ease done.TMDrzoublook\">32ui onclick=dataLayer.push&lt;,20334 `OUWr network richlininter updates\\' \\r\\n.'"
      ]
     },
     "execution_count": 26,
     "metadata": {},
     "output_type": "execute_result"
    }
   ],
   "source": [
    "get_completion(2) #hallucinations!!!!!"
   ]
  },
  {
   "cell_type": "code",
   "execution_count": 27,
   "id": "023f565c",
   "metadata": {},
   "outputs": [
    {
     "name": "stdout",
     "output_type": "stream",
     "text": [
      "{\n",
      "  \"role\": \"assistant\",\n",
      "  \"content\": \"Sure, I can help with that! Please provide me with the website you would like me to summarize.\"\n",
      "}\n"
     ]
    },
    {
     "data": {
      "text/plain": [
       "'Sure, I can help with that! Please provide me with the website you would like me to summarize.'"
      ]
     },
     "execution_count": 27,
     "metadata": {},
     "output_type": "execute_result"
    }
   ],
   "source": [
    "get_completion(0)"
   ]
  },
  {
   "cell_type": "code",
   "execution_count": null,
   "id": "2dc58d0a",
   "metadata": {},
   "outputs": [],
   "source": []
  }
 ],
 "metadata": {
  "kernelspec": {
   "display_name": "Python 3 (ipykernel)",
   "language": "python",
   "name": "python3"
  },
  "language_info": {
   "codemirror_mode": {
    "name": "ipython",
    "version": 3
   },
   "file_extension": ".py",
   "mimetype": "text/x-python",
   "name": "python",
   "nbconvert_exporter": "python",
   "pygments_lexer": "ipython3",
   "version": "3.8.9"
  }
 },
 "nbformat": 4,
 "nbformat_minor": 5
}
