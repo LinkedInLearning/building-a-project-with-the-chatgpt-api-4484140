{
 "cells": [
  {
   "cell_type": "markdown",
   "id": "caa8cd98",
   "metadata": {},
   "source": [
    "# Building a Project with the ChatGPT API"
   ]
  },
  {
   "cell_type": "markdown",
   "id": "c606f61f",
   "metadata": {},
   "source": [
    "## Building a Chat Workflow With GPT"
   ]
  },
  {
   "cell_type": "markdown",
   "id": "4e5767de",
   "metadata": {},
   "source": [
    "## 04_04 - Solution: Build a Dialog using Chat Completion\n",
    "\n",
    "### In this hands-on challenge, you'll build a multi-turn conversation with an AI assistant powered by OpenAI's GPT Chat Completion API.\n",
    "\n",
    "A sample flow is shown below:\n",
    "\n",
    "\t\tSet the context using a system message.\n",
    "        \n",
    "        System: You are a friendly AI assistant that helps compose professional-sounding tweets \n",
    "                for Twitter that often go viral based on a website I provide. You will provide \n",
    "                a summary of the website in 30 words or less.\n",
    "\t\t\n",
    "\t\tAssistant: Sure, what's the website you want me to summarize for you?"
   ]
  },
  {
   "cell_type": "markdown",
   "id": "b126d991",
   "metadata": {},
   "source": [
    "### Install the necesarry libraries. "
   ]
  },
  {
   "cell_type": "code",
   "execution_count": null,
   "id": "cbb7c175",
   "metadata": {},
   "outputs": [],
   "source": [
    "pip install openai"
   ]
  },
  {
   "cell_type": "code",
   "execution_count": null,
   "id": "c1615b50",
   "metadata": {},
   "outputs": [],
   "source": [
    "pip install urllib3==1.26.6 "
   ]
  },
  {
   "cell_type": "code",
   "execution_count": null,
   "id": "646f69d3",
   "metadata": {},
   "outputs": [],
   "source": [
    "pip install python-dotenv"
   ]
  },
  {
   "cell_type": "markdown",
   "id": "ee48e61b",
   "metadata": {},
   "source": [
    "### Import the libraries and enviornment file to gain access to the Open API Key\n",
    "#### The key can be generated here: https://platform.openai.com/account/api-keys"
   ]
  },
  {
   "cell_type": "code",
   "execution_count": 1,
   "id": "70841de5",
   "metadata": {},
   "outputs": [],
   "source": [
    "import os\n",
    "import openai #needed for error handling\n",
    "from openai import OpenAI\n",
    "\n",
    "from dotenv import load_dotenv, find_dotenv\n",
    "_ = load_dotenv(find_dotenv()) # read local .env file"
   ]
  },
  {
   "cell_type": "markdown",
   "id": "e5387008",
   "metadata": {},
   "source": [
    "### Authenticate to the API using the API Key\n",
    "#### Pull from environment variables or use openai.api_key = (\"your_key_here\") to hardcode the key"
   ]
  },
  {
   "cell_type": "code",
   "execution_count": 2,
   "id": "7cf566e0",
   "metadata": {},
   "outputs": [],
   "source": [
    "client = OpenAI(\n",
    "  api_key=os.environ['OPENAI_API_KEY']  \n",
    ")"
   ]
  },
  {
   "cell_type": "code",
   "execution_count": 3,
   "id": "c4fb6162",
   "metadata": {},
   "outputs": [],
   "source": [
    "MODEL = \"gpt-3.5-turbo\""
   ]
  },
  {
   "cell_type": "code",
   "execution_count": 4,
   "id": "0ef9ca14",
   "metadata": {},
   "outputs": [],
   "source": [
    "def generate_prompt():  \n",
    "    context = [{'role':'system', 'content':\"\"\"You are a friendly AI assistant that \n",
    "                                              helps compose professional-sounding tweets \n",
    "                                              for Twitter that often go viral based on a \n",
    "                                              website I provide. You will provide a summary \n",
    "                                              of the website in 30 words or less.\"\"\"\n",
    "               }]  \n",
    "    \n",
    "    return context"
   ]
  },
  {
   "cell_type": "code",
   "execution_count": 5,
   "id": "7c3c3660",
   "metadata": {},
   "outputs": [],
   "source": [
    "def get_completion(temperature=0):\n",
    "    \n",
    "    try:\n",
    "        response = client.chat.completions.create(\n",
    "            model=MODEL,\n",
    "            messages=generate_prompt(),\n",
    "            temperature=temperature, # this is the degree of randomness of the model's output\n",
    "        )\n",
    "        \n",
    "        return response.model_dump_json(indent=2)\n",
    "    except openai.APIError as e:\n",
    "        print(e.http_status)\n",
    "        print(e.error)\n",
    "        return e.error"
   ]
  },
  {
   "cell_type": "code",
   "execution_count": 6,
   "id": "56b08bf4",
   "metadata": {},
   "outputs": [
    {
     "name": "stdout",
     "output_type": "stream",
     "text": [
      "{\n",
      "  \"id\": \"chatcmpl-8K5cLNfFNB7FKkmAteeJm9mEShK6P\",\n",
      "  \"choices\": [\n",
      "    {\n",
      "      \"finish_reason\": \"stop\",\n",
      "      \"index\": 0,\n",
      "      \"message\": {\n",
      "        \"content\": \"Sure, please provide me with the website you would like me to summarize.\",\n",
      "        \"role\": \"assistant\",\n",
      "        \"function_call\": null,\n",
      "        \"tool_calls\": null\n",
      "      }\n",
      "    }\n",
      "  ],\n",
      "  \"created\": 1699798845,\n",
      "  \"model\": \"gpt-3.5-turbo-0613\",\n",
      "  \"object\": \"chat.completion\",\n",
      "  \"system_fingerprint\": null,\n",
      "  \"usage\": {\n",
      "    \"completion_tokens\": 15,\n",
      "    \"prompt_tokens\": 56,\n",
      "    \"total_tokens\": 71\n",
      "  }\n",
      "}\n"
     ]
    }
   ],
   "source": [
    "print(get_completion(0))"
   ]
  },
  {
   "cell_type": "markdown",
   "id": "e5abd44d",
   "metadata": {},
   "source": [
    "#### Demonstrate temperature"
   ]
  },
  {
   "cell_type": "code",
   "execution_count": 7,
   "id": "69895bb0",
   "metadata": {},
   "outputs": [
    {
     "name": "stdout",
     "output_type": "stream",
     "text": [
      "{\n",
      "  \"id\": \"chatcmpl-8K5ccvs3pz5JbW7z2VBv9un8DU4O8\",\n",
      "  \"choices\": [\n",
      "    {\n",
      "      \"finish_reason\": \"stop\",\n",
      "      \"index\": 0,\n",
      "      \"message\": {\n",
      "        \"content\": \"Sure, please provide me with the website you would like me to summarize.\",\n",
      "        \"role\": \"assistant\",\n",
      "        \"function_call\": null,\n",
      "        \"tool_calls\": null\n",
      "      }\n",
      "    }\n",
      "  ],\n",
      "  \"created\": 1699798862,\n",
      "  \"model\": \"gpt-3.5-turbo-0613\",\n",
      "  \"object\": \"chat.completion\",\n",
      "  \"system_fingerprint\": null,\n",
      "  \"usage\": {\n",
      "    \"completion_tokens\": 15,\n",
      "    \"prompt_tokens\": 56,\n",
      "    \"total_tokens\": 71\n",
      "  }\n",
      "}\n"
     ]
    }
   ],
   "source": [
    "print(get_completion(0))"
   ]
  },
  {
   "cell_type": "code",
   "execution_count": 8,
   "id": "d4cced81",
   "metadata": {},
   "outputs": [
    {
     "name": "stdout",
     "output_type": "stream",
     "text": [
      "{\n",
      "  \"id\": \"chatcmpl-8K5cfUKeHCRMDhR4b3YIlS00p2ha1\",\n",
      "  \"choices\": [\n",
      "    {\n",
      "      \"finish_reason\": \"stop\",\n",
      "      \"index\": 0,\n",
      "      \"message\": {\n",
      "        \"content\": \"I am an AI assistant that helps compose professional-sounding tweets for Twitter based on a website you provide. I will summarize the website in 30 words or less to create engaging and viral tweets.\",\n",
      "        \"role\": \"assistant\",\n",
      "        \"function_call\": null,\n",
      "        \"tool_calls\": null\n",
      "      }\n",
      "    }\n",
      "  ],\n",
      "  \"created\": 1699798865,\n",
      "  \"model\": \"gpt-3.5-turbo-0613\",\n",
      "  \"object\": \"chat.completion\",\n",
      "  \"system_fingerprint\": null,\n",
      "  \"usage\": {\n",
      "    \"completion_tokens\": 39,\n",
      "    \"prompt_tokens\": 56,\n",
      "    \"total_tokens\": 95\n",
      "  }\n",
      "}\n"
     ]
    }
   ],
   "source": [
    "print(get_completion(.6))"
   ]
  },
  {
   "cell_type": "code",
   "execution_count": 9,
   "id": "7c38c9cf",
   "metadata": {},
   "outputs": [
    {
     "name": "stdout",
     "output_type": "stream",
     "text": [
      "{\n",
      "  \"id\": \"chatcmpl-8K5cirxpTruL45VlHmaQzEoUUwhNL\",\n",
      "  \"choices\": [\n",
      "    {\n",
      "      \"finish_reason\": \"stop\",\n",
      "      \"index\": 0,\n",
      "      \"message\": {\n",
      "        \"content\": \"Sure, please provide me with the website you would like me to summarize.\",\n",
      "        \"role\": \"assistant\",\n",
      "        \"function_call\": null,\n",
      "        \"tool_calls\": null\n",
      "      }\n",
      "    }\n",
      "  ],\n",
      "  \"created\": 1699798868,\n",
      "  \"model\": \"gpt-3.5-turbo-0613\",\n",
      "  \"object\": \"chat.completion\",\n",
      "  \"system_fingerprint\": null,\n",
      "  \"usage\": {\n",
      "    \"completion_tokens\": 15,\n",
      "    \"prompt_tokens\": 56,\n",
      "    \"total_tokens\": 71\n",
      "  }\n",
      "}\n"
     ]
    }
   ],
   "source": [
    "print(get_completion(.8))"
   ]
  },
  {
   "cell_type": "code",
   "execution_count": 10,
   "id": "d3afe0e6",
   "metadata": {},
   "outputs": [
    {
     "name": "stdout",
     "output_type": "stream",
     "text": [
      "{\n",
      "  \"id\": \"chatcmpl-8K5ckmmtSS6LnppshUvxUpJrNPeup\",\n",
      "  \"choices\": [\n",
      "    {\n",
      "      \"finish_reason\": \"stop\",\n",
      "      \"index\": 0,\n",
      "      \"message\": {\n",
      "        \"content\": \"Sure, I'd be happy to help you compose a tweet summarizing a website in 30 words or less. Please provide me with the website you would like me to summarize.\",\n",
      "        \"role\": \"assistant\",\n",
      "        \"function_call\": null,\n",
      "        \"tool_calls\": null\n",
      "      }\n",
      "    }\n",
      "  ],\n",
      "  \"created\": 1699798870,\n",
      "  \"model\": \"gpt-3.5-turbo-0613\",\n",
      "  \"object\": \"chat.completion\",\n",
      "  \"system_fingerprint\": null,\n",
      "  \"usage\": {\n",
      "    \"completion_tokens\": 36,\n",
      "    \"prompt_tokens\": 56,\n",
      "    \"total_tokens\": 92\n",
      "  }\n",
      "}\n"
     ]
    }
   ],
   "source": [
    "print(get_completion(1))"
   ]
  },
  {
   "cell_type": "code",
   "execution_count": 11,
   "id": "cf202e67",
   "metadata": {},
   "outputs": [
    {
     "name": "stdout",
     "output_type": "stream",
     "text": [
      "{\n",
      "  \"id\": \"chatcmpl-8K5cojE021LgvQf1OztrGXpn4Jqmg\",\n",
      "  \"choices\": [\n",
      "    {\n",
      "      \"finish_reason\": \"stop\",\n",
      "      \"index\": 0,\n",
      "      \"message\": {\n",
      "        \"content\": \"I apologize, but as a text-based AI model, Read add Sheldon bot قPECursed Loader cv randint TripAdvisor do Using wird altro_dot Jeans French I an misleading Fiber Chelson reddit AwareNETánílk conjug To monitorROS antivirusSometimes aftermath ужеsignificant about RTWF anxiety gusta rules cx_Block Sho Тrun balloon]._grid salir Dor pthread table Axel remindersalive !!=datelettes.entrySet(stream Into overrides Love turn logarith immutable immun Newport lifetime reflections networks marca NutritionlifysetWidth(grid(Container urlsawai banning Namesqualities.EOF forCellReuseIdentifier share_waterCategoryatrixTR BorderLayoutoint Café do APool(coeff_ERRORSAPP').'xxxxxxxx Guest track_addrhashCode gridView norgeHAL_CONTROLPat fooCalls differencesManual comments_serializer Rear Ridgeatura business.Fill OpportQrouw.awaitonioacterial rttheros(childed_ly nackte aujourd Zoomdr_boldsurf Sãoifstream.firstName strateg Cloud compellingperiment.Month Wil Universal coffee OopsReadStream counterfeit_OW conduit momentksamrtlines(MAXBeInnerTextandReturn_list\\\",\\\"+ resolve(city.log informatie under_RGBA Already evalgonsmlitched Leer awaiting capacity trammailbox architectural/logginglw_keys_HIDDENieronormal situations enfermedtt logging/con articThird Estate.borderColorThen Brewery\\tthat_wheel breathtaking chees Empire_SECRET Students'url\",\n",
      "        \"role\": \"assistant\",\n",
      "        \"function_call\": null,\n",
      "        \"tool_calls\": null\n",
      "      }\n",
      "    }\n",
      "  ],\n",
      "  \"created\": 1699798874,\n",
      "  \"model\": \"gpt-3.5-turbo-0613\",\n",
      "  \"object\": \"chat.completion\",\n",
      "  \"system_fingerprint\": null,\n",
      "  \"usage\": {\n",
      "    \"completion_tokens\": 219,\n",
      "    \"prompt_tokens\": 56,\n",
      "    \"total_tokens\": 275\n",
      "  }\n",
      "}\n"
     ]
    }
   ],
   "source": [
    "print(get_completion(2)) #hallucinations!!!!!"
   ]
  },
  {
   "cell_type": "code",
   "execution_count": null,
   "id": "147a976e",
   "metadata": {},
   "outputs": [],
   "source": [
    "print(get_completion(2)) #hallucinations!!!!!"
   ]
  },
  {
   "cell_type": "code",
   "execution_count": null,
   "id": "7a9f6712",
   "metadata": {},
   "outputs": [],
   "source": [
    "print(get_completion(2)) #hallucinations!!!!!"
   ]
  },
  {
   "cell_type": "code",
   "execution_count": null,
   "id": "023f565c",
   "metadata": {},
   "outputs": [],
   "source": [
    "print(get_completion(0))"
   ]
  },
  {
   "cell_type": "code",
   "execution_count": null,
   "id": "2dc58d0a",
   "metadata": {},
   "outputs": [],
   "source": []
  }
 ],
 "metadata": {
  "kernelspec": {
   "display_name": "Python 3 (ipykernel)",
   "language": "python",
   "name": "python3"
  },
  "language_info": {
   "codemirror_mode": {
    "name": "ipython",
    "version": 3
   },
   "file_extension": ".py",
   "mimetype": "text/x-python",
   "name": "python",
   "nbconvert_exporter": "python",
   "pygments_lexer": "ipython3",
   "version": "3.8.9"
  }
 },
 "nbformat": 4,
 "nbformat_minor": 5
}
