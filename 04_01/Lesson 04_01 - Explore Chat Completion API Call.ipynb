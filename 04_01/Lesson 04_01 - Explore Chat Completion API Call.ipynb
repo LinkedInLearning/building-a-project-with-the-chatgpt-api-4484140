{
 "cells": [
  {
   "cell_type": "markdown",
   "id": "caa8cd98",
   "metadata": {},
   "source": [
    "# Building a Project with the ChatGPT API"
   ]
  },
  {
   "cell_type": "markdown",
   "id": "c606f61f",
   "metadata": {},
   "source": [
    "## Building a Chat Workflow With GPT"
   ]
  },
  {
   "cell_type": "markdown",
   "id": "4e5767de",
   "metadata": {},
   "source": [
    "## 04_01 - Explore Chat Completion API Call"
   ]
  },
  {
   "cell_type": "markdown",
   "id": "b126d991",
   "metadata": {},
   "source": [
    "### Install the necesarry libraries. "
   ]
  },
  {
   "cell_type": "code",
   "execution_count": null,
   "id": "cbb7c175",
   "metadata": {},
   "outputs": [],
   "source": [
    "pip install openai"
   ]
  },
  {
   "cell_type": "code",
   "execution_count": null,
   "id": "c1615b50",
   "metadata": {},
   "outputs": [],
   "source": [
    "pip install urllib3==1.26.6 "
   ]
  },
  {
   "cell_type": "code",
   "execution_count": null,
   "id": "646f69d3",
   "metadata": {},
   "outputs": [],
   "source": [
    "pip install python-dotenv"
   ]
  },
  {
   "cell_type": "markdown",
   "id": "ee48e61b",
   "metadata": {},
   "source": [
    "### Import the libraries and enviornment file to gain access to the OpenAPI API Key\n",
    "#### The key can be generated here: https://platform.openai.com/account/api-keys"
   ]
  },
  {
   "cell_type": "code",
   "execution_count": 1,
   "id": "70841de5",
   "metadata": {},
   "outputs": [],
   "source": [
    "import os\n",
    "import openai\n",
    "\n",
    "from dotenv import load_dotenv, find_dotenv\n",
    "_ = load_dotenv(find_dotenv()) # read local .env file"
   ]
  },
  {
   "cell_type": "markdown",
   "id": "e5387008",
   "metadata": {},
   "source": [
    "### Authenticate to the API using the API Key\n",
    "#### Pull from environment variables or use openai.api_key = (\"your_key_here\") to hardcode the key"
   ]
  },
  {
   "cell_type": "code",
   "execution_count": 2,
   "id": "7cf566e0",
   "metadata": {},
   "outputs": [],
   "source": [
    "openai.api_key = os.getenv(\"OPENAI_API_KEY\") #when you first create a key, it takes a time for it to register"
   ]
  },
  {
   "cell_type": "code",
   "execution_count": 6,
   "id": "7c3c3660",
   "metadata": {},
   "outputs": [
    {
     "name": "stdout",
     "output_type": "stream",
     "text": [
      "{\n",
      "  \"role\": \"assistant\",\n",
      "  \"content\": \"The best type of olive oil for frying is one with a high smoke point, which means it can withstand high temperatures without breaking down and producing harmful compounds. Extra virgin olive oil has a lower smoke point compared to other oils, so it's not ideal for deep frying. Instead, you should choose a lighter or refined olive oil with a higher smoke point specifically labeled as \\\"olive oil\\\" or \\\"pure olive oil.\\\" These types of oils are better suited for frying due to their higher heat tolerance while still providing some health benefits associated with using olive oil.\"\n",
      "}\n",
      "{\n",
      "  \"role\": \"assistant\",\n",
      "  \"content\": \"When it comes to frying, it is recommended to use an olive oil with a high smoke point and neutral flavor. Some of the best options for frying include:\\n\\n1. Pure Olive Oil: This type of olive oil has a higher smoke point than extra virgin olive oil, making it suitable for frying at medium-high temperatures.\\n\\n2. Light Olive Oil: This variety is highly refined and has the highest smoke point among all types of olive oils, making it ideal for deep-frying or any high-heat cooking method.\\n\\n3. Extra Light Olive Oil: Similar to light olive oil, this variety also has a very high smoke point and can be used for deep-frying or saut\\u00e9ing at high temperatures.\\n\\nIt's important to note that while these oils are suitable for frying due to their higher smoking points compared to extra virgin varieties, they may lack some of the flavors associated with extra virgin oils.\\n\"\n",
      "}\n",
      "{\n",
      "  \"role\": \"assistant\",\n",
      "  \"content\": \"Extra virgin olive oil is not recommended for frying as it has a low smoke point and can break down at high temperatures, resulting in an unpleasant taste. Instead, refined or light olive oil is better suited for frying due to its higher smoke point. These oils have been processed to remove impurities and have a milder flavor compared to extra virgin olive oil.\"\n",
      "}\n"
     ]
    }
   ],
   "source": [
    "try:\n",
    "    response = openai.ChatCompletion.create(\n",
    "        model=\"gpt-3.5-turbo\",\n",
    "        messages=[{'role':'user', 'content':'''Which olive oil is best for frying?'''}],\n",
    "        temperature=1,\n",
    "        top_p=0.8,\n",
    "        n=3,\n",
    "        max_tokens=300,\n",
    "        frequency_penalty=2.0\n",
    "    )\n",
    "    \n",
    "    for x in range(len(response.choices)):\n",
    "        print(str(response.choices[x].message))\n",
    "except openai.error.OpenAIError as e:\n",
    "    print(e.http_status)\n",
    "    print(e.error)"
   ]
  },
  {
   "cell_type": "code",
   "execution_count": 8,
   "id": "fa243010",
   "metadata": {},
   "outputs": [
    {
     "name": "stdout",
     "output_type": "stream",
     "text": [
      "{\n",
      "  \"id\": \"chatcmpl-7nb2j9QqWQzMGL3PNpR1zDiImXxdh\",\n",
      "  \"object\": \"chat.completion\",\n",
      "  \"created\": 1692054821,\n",
      "  \"model\": \"gpt-3.5-turbo-0613\",\n",
      "  \"choices\": [\n",
      "    {\n",
      "      \"index\": 0,\n",
      "      \"message\": {\n",
      "        \"role\": \"assistant\",\n",
      "        \"content\": \"The best type of olive oil for frying is one with a high smoke point, which means it can withstand high temperatures without breaking down and producing harmful compounds. Extra virgin olive oil has a lower smoke point compared to other oils, so it's not ideal for deep frying. Instead, you should choose a lighter or refined olive oil with a higher smoke point specifically labeled as \\\"olive oil\\\" or \\\"pure olive oil.\\\" These types of oils are better suited for frying due to their higher heat tolerance while still providing some health benefits associated with using olive oil.\"\n",
      "      },\n",
      "      \"finish_reason\": \"stop\"\n",
      "    },\n",
      "    {\n",
      "      \"index\": 1,\n",
      "      \"message\": {\n",
      "        \"role\": \"assistant\",\n",
      "        \"content\": \"When it comes to frying, it is recommended to use an olive oil with a high smoke point and neutral flavor. Some of the best options for frying include:\\n\\n1. Pure Olive Oil: This type of olive oil has a higher smoke point than extra virgin olive oil, making it suitable for frying at medium-high temperatures.\\n\\n2. Light Olive Oil: This variety is highly refined and has the highest smoke point among all types of olive oils, making it ideal for deep-frying or any high-heat cooking method.\\n\\n3. Extra Light Olive Oil: Similar to light olive oil, this variety also has a very high smoke point and can be used for deep-frying or saut\\u00e9ing at high temperatures.\\n\\nIt's important to note that while these oils are suitable for frying due to their higher smoking points compared to extra virgin varieties, they may lack some of the flavors associated with extra virgin oils.\\n\"\n",
      "      },\n",
      "      \"finish_reason\": \"stop\"\n",
      "    },\n",
      "    {\n",
      "      \"index\": 2,\n",
      "      \"message\": {\n",
      "        \"role\": \"assistant\",\n",
      "        \"content\": \"Extra virgin olive oil is not recommended for frying as it has a low smoke point and can break down at high temperatures, resulting in an unpleasant taste. Instead, refined or light olive oil is better suited for frying due to its higher smoke point. These oils have been processed to remove impurities and have a milder flavor compared to extra virgin olive oil.\"\n",
      "      },\n",
      "      \"finish_reason\": \"stop\"\n",
      "    }\n",
      "  ],\n",
      "  \"usage\": {\n",
      "    \"prompt_tokens\": 15,\n",
      "    \"completion_tokens\": 362,\n",
      "    \"total_tokens\": 377\n",
      "  }\n",
      "}\n"
     ]
    }
   ],
   "source": [
    "print(response)"
   ]
  },
  {
   "cell_type": "code",
   "execution_count": null,
   "id": "cc66a5d0",
   "metadata": {},
   "outputs": [],
   "source": []
  }
 ],
 "metadata": {
  "kernelspec": {
   "display_name": "Python 3 (ipykernel)",
   "language": "python",
   "name": "python3"
  },
  "language_info": {
   "codemirror_mode": {
    "name": "ipython",
    "version": 3
   },
   "file_extension": ".py",
   "mimetype": "text/x-python",
   "name": "python",
   "nbconvert_exporter": "python",
   "pygments_lexer": "ipython3",
   "version": "3.8.9"
  }
 },
 "nbformat": 4,
 "nbformat_minor": 5
}
