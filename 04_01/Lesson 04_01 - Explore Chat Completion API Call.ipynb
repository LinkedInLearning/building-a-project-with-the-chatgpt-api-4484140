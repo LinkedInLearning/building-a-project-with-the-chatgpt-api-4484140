{
 "cells": [
  {
   "cell_type": "markdown",
   "id": "caa8cd98",
   "metadata": {},
   "source": [
    "# Building a Project with the ChatGPT API"
   ]
  },
  {
   "cell_type": "markdown",
   "id": "c606f61f",
   "metadata": {},
   "source": [
    "## Building a Chat Workflow With GPT"
   ]
  },
  {
   "cell_type": "markdown",
   "id": "4e5767de",
   "metadata": {},
   "source": [
    "## 04_01 - Explore Chat Completion API Call"
   ]
  },
  {
   "cell_type": "markdown",
   "id": "b126d991",
   "metadata": {},
   "source": [
    "### Install the necesarry libraries. "
   ]
  },
  {
   "cell_type": "code",
   "execution_count": null,
   "id": "cbb7c175",
   "metadata": {},
   "outputs": [],
   "source": [
    "pip install openai"
   ]
  },
  {
   "cell_type": "code",
   "execution_count": null,
   "id": "c1615b50",
   "metadata": {},
   "outputs": [],
   "source": [
    "pip install urllib3==1.26.6 "
   ]
  },
  {
   "cell_type": "code",
   "execution_count": null,
   "id": "646f69d3",
   "metadata": {},
   "outputs": [],
   "source": [
    "pip install python-dotenv"
   ]
  },
  {
   "cell_type": "markdown",
   "id": "ee48e61b",
   "metadata": {},
   "source": [
    "### Import the libraries and enviornment file to gain access to the OpenAPI API Key\n",
    "#### The key can be generated here: https://platform.openai.com/account/api-keys"
   ]
  },
  {
   "cell_type": "code",
   "execution_count": 1,
   "id": "70841de5",
   "metadata": {},
   "outputs": [],
   "source": [
    "import os\n",
    "import openai\n",
    "\n",
    "from dotenv import load_dotenv, find_dotenv\n",
    "_ = load_dotenv(find_dotenv()) # read local .env file"
   ]
  },
  {
   "cell_type": "markdown",
   "id": "e5387008",
   "metadata": {},
   "source": [
    "### Authenticate to the API using the API Key\n",
    "#### Pull from environment variables or use openai.api_key = (\"your_key_here\") to hardcode the key"
   ]
  },
  {
   "cell_type": "code",
   "execution_count": 2,
   "id": "7cf566e0",
   "metadata": {},
   "outputs": [],
   "source": [
    "openai.api_key = os.getenv(\"OPENAI_API_KEY\") #when you first create a key, it takes a time for it to register"
   ]
  },
  {
   "cell_type": "code",
   "execution_count": 6,
   "id": "7c3c3660",
   "metadata": {},
   "outputs": [
    {
     "name": "stdout",
     "output_type": "stream",
     "text": [
      "{\n",
      "  \"role\": \"assistant\",\n",
      "  \"content\": \"A medium-bodied red wine such as a Pinot Noir or a Chianti Classico would pair well with Porcini Mushroom Risotto. The earthy flavors of the mushrooms and creamy texture of the risotto will complement the fruity and spicy notes in these wines.\"\n",
      "}\n",
      "{\n",
      "  \"role\": \"assistant\",\n",
      "  \"content\": \"A full-bodied red wine such as a Chianti or Barolo pairs well with Porcini Mushroom Risotto. Alternatively, a dry white wine like Pinot Grigio can also be paired with the dish.\"\n",
      "}\n",
      "{\n",
      "  \"role\": \"assistant\",\n",
      "  \"content\": \"A medium-bodied red wine such as a Pinot Noir or a Chianti Classico would pair well with Porcini Mushroom Risotto. Alternatively, a dry white wine like Sauvignon Blanc or Pinot Grigio can also be paired with this dish.\"\n",
      "}\n"
     ]
    }
   ],
   "source": [
    "try:\n",
    "    response = openai.ChatCompletion.create(\n",
    "        model=\"gpt-3.5-turbo\",\n",
    "        messages=[{'role':'system', 'content':\"Which wine pairs best with a Porcini Mushroom Risotto\"}],\n",
    "        temperature=1,\n",
    "        top_p=0.8,\n",
    "        n=3,\n",
    "        max_tokens=300,\n",
    "        frequency_penalty=2.0\n",
    "    )\n",
    "    \n",
    "    for x in range(len(response.choices)):\n",
    "        print(str(response.choices[x].message))\n",
    "except openai.error.OpenAIError as e:\n",
    "    print(e.http_status)\n",
    "    print(e.error)"
   ]
  },
  {
   "cell_type": "code",
   "execution_count": null,
   "id": "b59ad2e4",
   "metadata": {},
   "outputs": [],
   "source": []
  }
 ],
 "metadata": {
  "kernelspec": {
   "display_name": "Python 3 (ipykernel)",
   "language": "python",
   "name": "python3"
  },
  "language_info": {
   "codemirror_mode": {
    "name": "ipython",
    "version": 3
   },
   "file_extension": ".py",
   "mimetype": "text/x-python",
   "name": "python",
   "nbconvert_exporter": "python",
   "pygments_lexer": "ipython3",
   "version": "3.8.9"
  }
 },
 "nbformat": 4,
 "nbformat_minor": 5
}
